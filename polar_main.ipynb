{
 "cells": [
  {
   "cell_type": "markdown",
   "id": "a877baac",
   "metadata": {},
   "source": [
    "명사 리스트를 (명사, 빈도수) 리스트로 변환\n"
   ]
  },
  {
   "cell_type": "code",
   "execution_count": 1,
   "id": "1373ebe8",
   "metadata": {},
   "outputs": [],
   "source": [
    "\n",
    "def get_word_count_pair_list(word_list: list): # get_word_count_pair_list(['apple', 'apple']) == [('apple', 2)]\n",
    "    word_list = sorted(word_list)\n",
    "    result = []\n",
    "\n",
    "    start = 0\n",
    "    end = 0\n",
    "    while start < len(word_list):\n",
    "        while end < len(word_list) and word_list[start] == word_list[end]:\n",
    "            end = end + 1\n",
    "        result.append((word_list[start], end - start))\n",
    "        start = end\n",
    "    return result\n"
   ]
  },
  {
   "cell_type": "markdown",
   "id": "fa33d807",
   "metadata": {},
   "source": [
    "극성 사전 불러오기"
   ]
  },
  {
   "cell_type": "code",
   "execution_count": 2,
   "id": "e37ab5d6",
   "metadata": {},
   "outputs": [
    {
     "name": "stdout",
     "output_type": "stream",
     "text": [
      "{'의기': 4, '영웅': 5, '신념': 5, '용기': 5, '희생정신': 5, '희생': 5, '죽음': 1, '절망': 1, '금지': 1, '빌미': 2, '비화': 2, '응원': 5, '책임': 2, '무모': 1, '애국': 4, '훌륭': 5, '곤란': 2, '이기적': 1, '부족': 1, '대단': 5, '불행': 1, '마땅': 4, '환영': 4, '죄송': 2, '욕': 1, '인정': 5, '무사귀환': 5, '불의': 2, '무시': 3, '범죄행위': 1, '영웅적행동': 5, '비난': 1, '욕심': 1, '진심': 4, '기원': 5, '도움': 5, '존경': 5, '위용': 4, '승리': 4, '평화': 4, '열망': 4, '소신': 3, '외교분쟁': 1, '걱정': 4, '숭고': 5, '인류애': 4, '비겁': 2, '배신자': 1, '수치': 1, '민폐': 1, '자중': 2, '변명': 2, '망신': 1, '단결': 4, '요란': 2, '실망': 1, '박탈': 1, '외교문제': 1, '해': 1, '위험': 2, '머저리': 1, '심각': 2, '비판': 1, '살벌': 2, '허세': 2, '개': 1, '걸림돌': 2, '수호': 4, '무작정': 2, '처벌': 1, '문제': 3, '천운': 4, '고발': 1, '자유': 5, '몸조심': 5, '자랑': 1, '파견': 2, '싸움': 1, '이미지': 1, '지': 1, '도둑': 1, '건강': 4, '조심': 5, '까는놈': 4}\n"
     ]
    }
   ],
   "source": [
    "from common import load_polar_scores\n",
    "\n",
    "polar_scores = load_polar_scores()\n",
    "print(polar_scores)"
   ]
  },
  {
   "cell_type": "markdown",
   "id": "0e5036cd",
   "metadata": {},
   "source": [
    "평가함수 정의"
   ]
  },
  {
   "cell_type": "code",
   "execution_count": 3,
   "id": "af7f0054",
   "metadata": {},
   "outputs": [],
   "source": [
    "from __future__ import annotations\n",
    "\n",
    "from common import combi2, combi3, nouns\n",
    "\n",
    "\n",
    "def evaluate(comment: str) -> float:\n",
    "    word_list = comment.split(' ')\n",
    "    noun_list = []\n",
    "    for i in range(len(word_list)):\n",
    "        if word_list[i] in nouns:\n",
    "            noun_list.append(word_list[i])\n",
    "        elif combi2(word_list[i]) != []:\n",
    "            t = combi2(word_list[i])\n",
    "            for j in range(len(t)):\n",
    "                noun_list.append(t[j])\n",
    "        elif combi3(word_list[i]) != []:\n",
    "            t = combi3(word_list[i])\n",
    "            for j in range(len(t)):\n",
    "                noun_list.append(t[j])\n",
    "    c = get_word_count_pair_list(noun_list)\n",
    "\n",
    "    num_words = 0\n",
    "    sum_of_product = 0\n",
    "    for i in range(len(c)):\n",
    "        word, frequency = c[i]\n",
    "        num_words += frequency\n",
    "        score = polar_scores.get(word, 0)\n",
    "        sum_of_product += score * frequency\n",
    "\n",
    "    if num_words == 0:\n",
    "        # 댓글에서 명사를 발견 못한 경우\n",
    "        return -1\n",
    "\n",
    "    return sum_of_product/num_words\n"
   ]
  },
  {
   "cell_type": "markdown",
   "id": "fcdf5f81",
   "metadata": {},
   "source": [
    "뉴스 댓글 불러오기"
   ]
  },
  {
   "cell_type": "code",
   "execution_count": 4,
   "id": "15688cd7",
   "metadata": {},
   "outputs": [
    {
     "name": "stdout",
     "output_type": "stream",
     "text": [
      "[('N', '개소리도 작작하자. 영화나 드라마를 너무 많이 봤네.. 도와주고 싶으면 기부를 해라.. 지가 무슨 슈퍼맨이야? 제발 생각좀 하고 행동하자.. 넌 주민등록번호가 있는 이상 한국인이야. 국가가 너를 보호할 의무가 있다고. 가서 피랍되거나 포로가 되서 외교문제 골치썩고 너같은 놈들 떼거지로 가면 나라입장에서도 곤란하다고. 우리나라는 저기 서유럽 독일 영국 프랑스처럼 러시아랑 떨어져있는게 아니고 바로 옆에 붙어있다고. 강대국 사이에 껴있어 어정쩡하게 가면 족도밥도 안되는게 우리나란데.. 지혜롭게 생각하자 그게 최선이었나'), ('N', '갈꺼면 조용히 가라. 홍보 오지네. 성추행 전적 벗을라고 애쓴다.'), ('N', '자기 목숨 받치는건 훌륭하지만 아니 외교적 일도 생각 안하는 건 좀')]\n"
     ]
    }
   ],
   "source": [
    "from common import read_from_csv\n",
    "\n",
    "rows = read_from_csv('test.csv')\n",
    "print(rows[:3])\n"
   ]
  },
  {
   "cell_type": "markdown",
   "id": "159adfd1",
   "metadata": {},
   "source": [
    "댓글 평가"
   ]
  },
  {
   "cell_type": "code",
   "execution_count": 5,
   "id": "5dd94a53",
   "metadata": {},
   "outputs": [
    {
     "name": "stdout",
     "output_type": "stream",
     "text": [
      "correct: 개소리도 작작하자. 영화나 드라마를 너무 많이 봤네.. 도와주고 싶으면 기부를 해라.. 지가 무슨 슈퍼맨이야? 제발 생각좀 하고 행동하자.. 넌 주민등록번호가 있는 이상 한국인이야. 국가가 너를 보호할 의무가 있다고. 가서 피랍되거나 포로가 되서 외교문제 골치썩고 너같은 놈들 떼거지로 가면 나라입장에서도 곤란하다고. 우리나라는 저기 서유럽 독일 영국 프랑스처럼 러시아랑 떨어져있는게 아니고 바로 옆에 붙어있다고. 강대국 사이에 껴있어 어정쩡하게 가면 족도밥도 안되는게 우리나란데.. 지혜롭게 생각하자 그게 최선이었나\n",
      "correct: 갈꺼면 조용히 가라. 홍보 오지네. 성추행 전적 벗을라고 애쓴다.\n",
      "correct: 자기 목숨 받치는건 훌륭하지만 아니 외교적 일도 생각 안하는 건 좀\n",
      "correct: 625전쟁때는 천운으로 유엔군 도움 받았지만 지금 우크라이나는 불행히도 유엔안보리(러시아)때문에 참전도움 못받으니까 이케 비공식적으로 원조하는것은 지극히 마땅하다!!!누가 이근의 영웅적행동을 감히 비난하는가??\n",
      "correct: 만약 피랍되도 개인의 일탈이라는 명분이 확실하게 있으니 외교문제로 확장시키긴 러시아 입장에서도 넌센스 여튼저튼 한국군인의 타이틀을 처음 가지고 합류한것이니 인정받고 오시길\n",
      "correct: 좋게만 볼 일은 아닐듯. 전쟁 끝난 후를 생각했을 때 서방국가들과 중러 사이에 낀 우리나라는 한쪽으로 기울면 당하기 쉽다. 후방지원 정도를 하고 왔으면 하는 바람이다.\n",
      "incorrect: 정답은 없는 것 같다. 하지만 어려운 결정임은 틀림이 없다. 불의를 보고 가만히 보고만 있으면 죄짓는 것 같아 참여를 결정한 것으로 보이고 국가 통제에 따르지 않는 것에 대하여 여러문제가 예견된 수 있다. 하지만 임이 떠난 상태로 돌아올 땐 무사히 건강하게 돌아오길 기원한다.\n",
      "correct: 자유를 위해 평화를위해 목숨을건 당신들의 결단에 경의를 표합니다 우리도 북한의 침공으로 어려울때 미국을 비롯해 세계 각국의 도움을 받아 나라를 지컸기에 오늘의 대한민국이 있었습니다 이것은 부정할수 없는 역사적 사실이라 생각돕니다 모두 무사히 귀국 하시길 진심으로 기원 합니다\n",
      "correct: 참 존경스럽습니다 건강하게 돌아오시기를 바랍니다 꼭 돌아오실거라 믿습니다 마음은있어도 행동하지 못하는 저 자신이 부끄럽습니다이근대위님 다시 좋은소식있기를 기원합닏ᆢ\n",
      "correct: 정부가 가지 말라는데 간다는 건 나라가 뭐라든 내 하고 싶은대로 하겠다는 거 아님? 그런 사람이 왜 대한민국에 살지? 니 하고 싶은대로 다른 나라에 가서 하고 살지? 얼마나 대한민국 정부가 우스우면 이런 짓을 하지?\n",
      "correct: 이 공산주의 정권보다 당신이 더 멋있습니다. 건강 조심하세요 !!!!!!!!\n",
      "correct: 러시아는 외인 부대에 대해 “국제법상 군인 지위가 아닌 만큼 전쟁 포로로 대우하지 않고 체포시 형사처벌을 받을 수 있다”고 경고했다.\n",
      "correct: 개개인이 의견 피력은 좋아도 직접 행동은 자중해야합니다 사람을 죽이는 자도 스스로 변명이 있듯 주위에서 개입하면 진짜 해결이 안 되고 감정 싸움이 됩니다\n",
      "correct: 국가 에서 위험지역 금지 구역 인데 허락 없이 개인 의 행동 으로 가서 다치 거나 죽으면 .....\n",
      "incorrect: 한국의 이미지를 위해 한발 나아서는 모습 보기좋네요\n",
      "correct: 나라 세금이나 갚아라?? UDT복무할때 무상 파견 교육 받고 위무 복무 기간 못채워서 소송중인걸로 아는데 ㅋㅋ\n",
      "correct: 한때 군인출신이 저토록 요란할까ㅠ 내눈엔 우크라이나 지원이 아니라 본인 관심고 올리려는걸로 밖에... 정권바뀌면 쇼하는시대 지나간다.. 지금 문죄인이가 쇼한다고 너무 쇼 기획하지마라 ㅎ\n",
      "correct: 가세연 성제준 ㅋㅋㅋ 말로만 자유 민주주의 수호를 외치는 코인 유투버 ㅋㅋ 누가 진짜 행동하는 진짜 남자인가\n",
      "correct: 진짜 군인이다... 미국이 군사력이 얼마나 대단한지 알 수 있는 면모..\n",
      "correct: 나라 법을 하찮게 여기시네. 참 실망이다. 국적 박탈 갑시다.\n"
     ]
    }
   ],
   "source": [
    "matched = 0  # 예측과 레이블이 일치하는 댓글의 갯수\n",
    "pos = 0 # 함수에 의해 긍정적이라고 평가된 댓글의 갯수\n",
    "neg = 0 # 함수에 의해 부정적이라고 평가된 댓글의 갯수\n",
    "\n",
    "for row in rows:\n",
    "    label, text = row\n",
    "    score = evaluate(text)\n",
    "\n",
    "    THRESHOLD = 0.4\n",
    "    predict = 'P' if score >= THRESHOLD else 'N'\n",
    "\n",
    "    if label == predict:\n",
    "        print(f'correct: {text}')\n",
    "        if predict == 'P':\n",
    "            pos += 1\n",
    "        else:\n",
    "            neg += 1\n",
    "        matched += 1\n",
    "    else:\n",
    "        print(f'incorrect: {text}')\n",
    "        if predict == 'P':\n",
    "            pos += 1\n",
    "        else:\n",
    "            neg += 1\n"
   ]
  },
  {
   "cell_type": "markdown",
   "id": "b0140107",
   "metadata": {},
   "source": [
    "실행 결과 출력"
   ]
  },
  {
   "cell_type": "code",
   "execution_count": 6,
   "id": "07111447",
   "metadata": {},
   "outputs": [
    {
     "name": "stdout",
     "output_type": "stream",
     "text": [
      "정확도: 0.9\n",
      "총 댓글 갯수:  20\n",
      "긍정, 부정 퍼센트: 35.0 65.0\n"
     ]
    }
   ],
   "source": [
    "print('정확도:', matched / len(rows))\n",
    "print('총 댓글 갯수: ', len(rows))\n",
    "print('긍정, 부정 퍼센트:', pos/len(rows) * 100, neg/len(rows) * 100)"
   ]
  }
 ],
 "metadata": {
  "kernelspec": {
   "display_name": "Python 3.10.7 64-bit (microsoft store)",
   "language": "python",
   "name": "python3"
  },
  "language_info": {
   "codemirror_mode": {
    "name": "ipython",
    "version": 3
   },
   "file_extension": ".py",
   "mimetype": "text/x-python",
   "name": "python",
   "nbconvert_exporter": "python",
   "pygments_lexer": "ipython3",
   "version": "3.10.7"
  },
  "vscode": {
   "interpreter": {
    "hash": "794d29608a2829fb8a19f23bfe3ab7801c5db5df42b3429d963980e980279528"
   }
  }
 },
 "nbformat": 4,
 "nbformat_minor": 5
}
