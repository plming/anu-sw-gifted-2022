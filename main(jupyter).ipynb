{
 "cells": [
  {
   "cell_type": "code",
   "execution_count": 1,
   "id": "1373ebe8",
   "metadata": {},
   "outputs": [],
   "source": [
    "from __future__ import annotations\n",
    "\n",
    "# FIXME: 중복 코드가 일반적으로 좋지 않습니다. common 모듈에 극성함수, knn에서 공통적으로 쓰이는 기능(사전 파일 로딩, 댓글 가져오기) 등을 구현해 두었습니다.\n",
    "# 이 함수는 반환형이 list, dict으로 다르다는게 common 내 함수와 차이점입니다.\n",
    "# 그러나 구현에서 명사들의 순서나 순차적인 접근이 중요해 보이지는 않습니다.\n",
    "# 만약 그렇다면 list 대신에 dict를 반환하도록 수정하길 바랍니다.\n",
    "def get_word_count_pair_list(word_list: list):\n",
    "    '''\n",
    "    명사 리스트를 (명사, 빈도수) 리스트로 변환\n",
    "    get_word_count_pair_list(['apple', 'apple']) == [('apple', 2)] \n",
    "    '''\n",
    "    word_list = sorted(word_list)\n",
    "    result = []\n",
    "\n",
    "    start = 0\n",
    "    end = 0\n",
    "    while start < len(word_list):\n",
    "        while end < len(word_list) and word_list[start] == word_list[end]:\n",
    "            end = end + 1\n",
    "        result.append((word_list[start], end - start))\n",
    "        start = end\n",
    "    return result\n"
   ]
  },
  {
   "cell_type": "code",
   "execution_count": 2,
   "id": "af7f0054",
   "metadata": {},
   "outputs": [
    {
     "ename": "TypeError",
     "evalue": "Type Set cannot be instantiated; use set() instead",
     "output_type": "error",
     "traceback": [
      "\u001b[1;31m---------------------------------------------------------------------------\u001b[0m",
      "\u001b[1;31mTypeError\u001b[0m                                 Traceback (most recent call last)",
      "\u001b[1;32m<ipython-input-2-1d1e1e7d085c>\u001b[0m in \u001b[0;36m<module>\u001b[1;34m\u001b[0m\n\u001b[0;32m      1\u001b[0m \u001b[1;32mfrom\u001b[0m \u001b[0m__future__\u001b[0m \u001b[1;32mimport\u001b[0m \u001b[0mannotations\u001b[0m\u001b[1;33m\u001b[0m\u001b[1;33m\u001b[0m\u001b[0m\n\u001b[0;32m      2\u001b[0m \u001b[1;33m\u001b[0m\u001b[0m\n\u001b[1;32m----> 3\u001b[1;33m \u001b[1;32mfrom\u001b[0m \u001b[0mcommon\u001b[0m \u001b[1;32mimport\u001b[0m \u001b[0mcombi2\u001b[0m\u001b[1;33m,\u001b[0m \u001b[0mcombi3\u001b[0m\u001b[1;33m,\u001b[0m \u001b[0mnouns\u001b[0m\u001b[1;33m\u001b[0m\u001b[1;33m\u001b[0m\u001b[0m\n\u001b[0m\u001b[0;32m      4\u001b[0m \u001b[1;33m\u001b[0m\u001b[0m\n\u001b[0;32m      5\u001b[0m \u001b[1;32mdef\u001b[0m \u001b[0mevaluate\u001b[0m\u001b[1;33m(\u001b[0m\u001b[0mcomment\u001b[0m\u001b[1;33m:\u001b[0m \u001b[0mstr\u001b[0m\u001b[1;33m)\u001b[0m \u001b[1;33m->\u001b[0m \u001b[0mfloat\u001b[0m\u001b[1;33m:\u001b[0m\u001b[1;33m\u001b[0m\u001b[1;33m\u001b[0m\u001b[0m\n",
      "\u001b[1;32mc:\\Users\\컴퓨터교육\\Documents\\GitHub\\gifted\\anu-sw-gifted-2022\\common.py\u001b[0m in \u001b[0;36m<module>\u001b[1;34m\u001b[0m\n\u001b[0;32m    133\u001b[0m \u001b[1;33m\u001b[0m\u001b[0m\n\u001b[0;32m    134\u001b[0m \u001b[1;31m# global variables\u001b[0m\u001b[1;33m\u001b[0m\u001b[1;33m\u001b[0m\u001b[1;33m\u001b[0m\u001b[0m\n\u001b[1;32m--> 135\u001b[1;33m \u001b[0mnouns\u001b[0m \u001b[1;33m=\u001b[0m \u001b[0mload_nouns\u001b[0m\u001b[1;33m(\u001b[0m\u001b[1;33m)\u001b[0m\u001b[1;33m\u001b[0m\u001b[1;33m\u001b[0m\u001b[0m\n\u001b[0m\u001b[0;32m    136\u001b[0m \u001b[0mhaday\u001b[0m \u001b[1;33m=\u001b[0m \u001b[0mload_haday\u001b[0m\u001b[1;33m(\u001b[0m\u001b[1;33m)\u001b[0m\u001b[1;33m\u001b[0m\u001b[1;33m\u001b[0m\u001b[0m\n\u001b[0;32m    137\u001b[0m \u001b[0mpostpositions\u001b[0m \u001b[1;33m=\u001b[0m \u001b[0mload_postpositions\u001b[0m\u001b[1;33m(\u001b[0m\u001b[1;33m)\u001b[0m\u001b[1;33m\u001b[0m\u001b[1;33m\u001b[0m\u001b[0m\n",
      "\u001b[1;32mc:\\Users\\컴퓨터교육\\Documents\\GitHub\\gifted\\anu-sw-gifted-2022\\common.py\u001b[0m in \u001b[0;36mload_nouns\u001b[1;34m()\u001b[0m\n\u001b[0;32m     68\u001b[0m     \u001b[0m명사\u001b[0m \u001b[0m집합\u001b[0m \u001b[0m불러오기\u001b[0m\u001b[1;33m\u001b[0m\u001b[1;33m\u001b[0m\u001b[0m\n\u001b[0;32m     69\u001b[0m     \"\"\"\n\u001b[1;32m---> 70\u001b[1;33m     \u001b[0mnoun\u001b[0m \u001b[1;33m=\u001b[0m \u001b[0mSet\u001b[0m\u001b[1;33m[\u001b[0m\u001b[0mstr\u001b[0m\u001b[1;33m]\u001b[0m\u001b[1;33m(\u001b[0m\u001b[1;33m)\u001b[0m\u001b[1;33m\u001b[0m\u001b[1;33m\u001b[0m\u001b[0m\n\u001b[0m\u001b[0;32m     71\u001b[0m     \u001b[1;32mwith\u001b[0m \u001b[0mopen\u001b[0m\u001b[1;33m(\u001b[0m\u001b[1;34m'noun.txt'\u001b[0m\u001b[1;33m,\u001b[0m \u001b[1;34m'r'\u001b[0m\u001b[1;33m,\u001b[0m \u001b[0mencoding\u001b[0m\u001b[1;33m=\u001b[0m\u001b[1;34m'utf-8'\u001b[0m\u001b[1;33m)\u001b[0m \u001b[1;32mas\u001b[0m \u001b[0mfile\u001b[0m\u001b[1;33m:\u001b[0m\u001b[1;33m\u001b[0m\u001b[1;33m\u001b[0m\u001b[0m\n\u001b[0;32m     72\u001b[0m         \u001b[0mlines\u001b[0m \u001b[1;33m=\u001b[0m \u001b[0mfile\u001b[0m\u001b[1;33m.\u001b[0m\u001b[0mreadlines\u001b[0m\u001b[1;33m(\u001b[0m\u001b[1;33m)\u001b[0m\u001b[1;33m\u001b[0m\u001b[1;33m\u001b[0m\u001b[0m\n",
      "\u001b[1;32mc:\\anaconda\\lib\\typing.py\u001b[0m in \u001b[0;36m__call__\u001b[1;34m(self, *args, **kwargs)\u001b[0m\n\u001b[0;32m    725\u001b[0m     \u001b[1;32mdef\u001b[0m \u001b[0m__call__\u001b[0m\u001b[1;33m(\u001b[0m\u001b[0mself\u001b[0m\u001b[1;33m,\u001b[0m \u001b[1;33m*\u001b[0m\u001b[0margs\u001b[0m\u001b[1;33m,\u001b[0m \u001b[1;33m**\u001b[0m\u001b[0mkwargs\u001b[0m\u001b[1;33m)\u001b[0m\u001b[1;33m:\u001b[0m\u001b[1;33m\u001b[0m\u001b[1;33m\u001b[0m\u001b[0m\n\u001b[0;32m    726\u001b[0m         \u001b[1;32mif\u001b[0m \u001b[1;32mnot\u001b[0m \u001b[0mself\u001b[0m\u001b[1;33m.\u001b[0m\u001b[0m_inst\u001b[0m\u001b[1;33m:\u001b[0m\u001b[1;33m\u001b[0m\u001b[1;33m\u001b[0m\u001b[0m\n\u001b[1;32m--> 727\u001b[1;33m             raise TypeError(f\"Type {self._name} cannot be instantiated; \"\n\u001b[0m\u001b[0;32m    728\u001b[0m                             f\"use {self._name.lower()}() instead\")\n\u001b[0;32m    729\u001b[0m         \u001b[0mresult\u001b[0m \u001b[1;33m=\u001b[0m \u001b[0mself\u001b[0m\u001b[1;33m.\u001b[0m\u001b[0m__origin__\u001b[0m\u001b[1;33m(\u001b[0m\u001b[1;33m*\u001b[0m\u001b[0margs\u001b[0m\u001b[1;33m,\u001b[0m \u001b[1;33m**\u001b[0m\u001b[0mkwargs\u001b[0m\u001b[1;33m)\u001b[0m\u001b[1;33m\u001b[0m\u001b[1;33m\u001b[0m\u001b[0m\n",
      "\u001b[1;31mTypeError\u001b[0m: Type Set cannot be instantiated; use set() instead"
     ]
    }
   ],
   "source": [
    "from __future__ import annotations\n",
    "\n",
    "from common import combi2, combi3, nouns\n",
    "\n",
    "def evaluate(comment: str) -> float:\n",
    "    word_list = comment.split(' ')\n",
    "    noun_list = list[str]()\n",
    "    for i in range(len(word_list)):\n",
    "        if word_list[i] in nouns:\n",
    "            noun_list.append(word_list[i])\n",
    "        elif combi2(word_list[i]) != []:\n",
    "            t = combi2(word_list[i])\n",
    "            for j in range(len(t)):\n",
    "                noun_list.append(t[j])\n",
    "        elif combi3(word_list[i]) != []:\n",
    "            t = combi3(word_list[i])\n",
    "            for j in range(len(t)):\n",
    "                noun_list.append(t[j])\n",
    "    c = get_word_count_pair_list(noun_list)\n",
    "\n",
    "    # FIXME: 이 반복문은 단순 print 밖에 없어 보입니다. 디버깅을 위해 추가한 것으로 보입니다.\n",
    "    # 가능하다면 IDE나 에디터의 디버거 기능을 사용하거나, 꼭 필요하다면 적어도 git 저장소에는 디버깅을 위한 코드가 안올라가는 것이 좋습니다.\n",
    "\n",
    "    num_words = 0\n",
    "    sum_of_product = 0\n",
    "    for i in range(len(c)):\n",
    "        word, frequency = c[i]\n",
    "        num_words += frequency\n",
    "        score = polar_scores.get(word, 0)\n",
    "        sum_of_product += score * frequency\n",
    "\n",
    "    if num_words == 0:\n",
    "        # 댓글에서 명사를 발견 못한 경우\n",
    "        return -1\n",
    "\n",
    "    return sum_of_product/num_words\n"
   ]
  },
  {
   "cell_type": "code",
   "execution_count": null,
   "id": "15688cd7",
   "metadata": {},
   "outputs": [],
   "source": [
    "file = open('news.csv', 'r', encoding='utf-8')\n",
    "comments = file.readlines()\n",
    "print(comments[:3])"
   ]
  },
  {
   "cell_type": "code",
   "execution_count": null,
   "id": "27df48cf",
   "metadata": {},
   "outputs": [],
   "source": [
    "from common import load_polar_scores\n",
    "\n",
    "polar_scores = load_polar_scores()\n",
    "print(polar_scores)\n",
    "\n",
    "count = 0\n",
    "matched = 0 # 예측과 레이블이 일치하는 댓글의 갯수\n",
    "print('추출된 단어, 극성단어 갯수, 결과(점수), 댓글')\n"
   ]
  },
  {
   "cell_type": "code",
   "execution_count": null,
   "id": "5dd94a53",
   "metadata": {},
   "outputs": [],
   "source": [
    "for comment in comments:\n",
    "    splited = comment.split(',')\n",
    "    joined = \" \".join(splited[3:])\n",
    "    score = evaluate(joined)\n",
    "    label = splited[3]\n",
    "\n",
    "    if score == 0:\n",
    "        count += 1\n",
    "\n",
    "    THRESHOLD = 0.4\n",
    "    predict = 'P' if score >= THRESHOLD else 'N'\n",
    "\n",
    "    if label == predict:\n",
    "        print(splited[0] + \": correct\", score)\n",
    "        matched += 1\n",
    "        print(comment)\n",
    "    else:\n",
    "        print(splited[0] + \": incorrect\", score)\n",
    "        print(comment)\n"
   ]
  },
  {
   "cell_type": "code",
   "execution_count": null,
   "id": "07111447",
   "metadata": {},
   "outputs": [],
   "source": [
    "# 실행 결과 출력\n",
    "print(f'정확도: ${matched / len(comments)}')\n",
    "print(count)\n",
    "print(f'총 댓글 갯수: ${len(comments)}')\n"
   ]
  }
 ],
 "metadata": {
  "kernelspec": {
   "display_name": "Python 3.8.5 ('base')",
   "language": "python",
   "name": "python3"
  },
  "language_info": {
   "codemirror_mode": {
    "name": "ipython",
    "version": 3
   },
   "file_extension": ".py",
   "mimetype": "text/x-python",
   "name": "python",
   "nbconvert_exporter": "python",
   "pygments_lexer": "ipython3",
   "version": "3.8.5"
  },
  "vscode": {
   "interpreter": {
    "hash": "d7288e82646d3164eca24130947288f8779d11454649f2c02a5dfc42af7f324c"
   }
  }
 },
 "nbformat": 4,
 "nbformat_minor": 5
}
