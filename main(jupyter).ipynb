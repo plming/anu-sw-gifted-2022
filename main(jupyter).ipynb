{
 "cells": [
  {
   "cell_type": "code",
   "execution_count": null,
   "id": "86c42f1f",
   "metadata": {},
   "outputs": [],
   "source": [
    "# Import the itertools, time libarary\n",
    "# This library ships with Python 3 so you don't have to download anything\n",
    "import itertools\n",
    "import time"
   ]
  },
  {
   "cell_type": "code",
   "execution_count": null,
   "id": "0a82d94c",
   "metadata": {},
   "outputs": [],
   "source": [
    "def load_polar_scores() -> dict:\n",
    "    polar_scores = {}\n",
    "    file = open('dicty.txt', 'r', encoding='utf-8')\n",
    "    lines = file.readlines()\n",
    "    for line in lines:\n",
    "        key, value = line.strip('.\\n').split(',')\n",
    "        polar_scores[key] = int(value)\n",
    "\n",
    "    return polar_scores\n",
    "\n",
    "print(load_polar_scores())"
   ]
  },
  {
   "cell_type": "code",
   "execution_count": null,
   "id": "7474e4c9",
   "metadata": {},
   "outputs": [],
   "source": [
    "def combi2(t):\n",
    "    n = len(t)\n",
    "    for i in range(n-1, 0, -1):\n",
    "        if (t[0:i] in noun and t[i:n] in haday):\n",
    "            return [t[0:i]]\n",
    "        elif (t[0:i] in noun and t[i:n] in noun):\n",
    "            return [t[0:i], t[i:n]]\n",
    "        elif (t[0:i] in noun and t[i:n] in postp):\n",
    "            return [t[0:i]]\n",
    "    return []"
   ]
  },
  {
   "cell_type": "code",
   "execution_count": null,
   "id": "cff74d92",
   "metadata": {},
   "outputs": [],
   "source": [
    "def combi3(t):\n",
    "    n = len(t)\n",
    "    for i in range(1, n):\n",
    "        for j in range(i+1, n):\n",
    "            if (t[0:i] in noun and t[i:j] in noun and t[j:n] in postp):\n",
    "                return [t[0:i], t[i:j]]\n",
    "    return []"
   ]
  },
  {
   "cell_type": "code",
   "execution_count": null,
   "id": "1373ebe8",
   "metadata": {},
   "outputs": [],
   "source": [
    "def get_word_count_pair_list(word_list: list):\n",
    "    '''\n",
    "    명사 리스트를 (명사, 빈도수) 리스트로 변환\n",
    "    get_word_count_pair_list(['apple', 'apple']) == [('apple', 2)] \n",
    "    '''\n",
    "    word_list = sorted(word_list)\n",
    "    result = []\n",
    "    start = 0\n",
    "    end = 0\n",
    "    while start < len(word_list):\n",
    "        while end < len(word_list) and word_list[start] == word_list[end]:\n",
    "            end = end + 1\n",
    "        result.append((word_list[start], end - start))\n",
    "        start = end\n",
    "    return result"
   ]
  },
  {
   "cell_type": "code",
   "execution_count": null,
   "id": "af7f0054",
   "metadata": {},
   "outputs": [],
   "source": [
    "def evaluate(comment):\n",
    "    word_list = comment.split(' ')\n",
    "    noun_list = []\n",
    "    for i in range(len(word_list)):\n",
    "        if word_list[i] in noun:\n",
    "            noun_list.append(word_list[i])\n",
    "        elif combi2(word_list[i]) != []:\n",
    "            t = combi2(word_list[i])\n",
    "            for j in range(len(t)):\n",
    "                noun_list.append(t[j])\n",
    "        elif combi3(word_list[i]) != []:\n",
    "            t = combi3(word_list[i])\n",
    "            for j in range(len(t)):\n",
    "                noun_list.append(t[j])\n",
    "    c = get_word_count_pair_list(noun_list)\n",
    "    print(c)\n",
    "    print(type(c[0]))\n",
    "    print(c[0][0])\n",
    "    for i in range(len(c)):\n",
    "        try:\n",
    "            print(c[i][0], polar_scores[c[i][slice(0)]])\n",
    "        except KeyError:\n",
    "            pass\n",
    "    num_words = 0\n",
    "    sum_of_product = 0\n",
    "    for i in range(len(c)):\n",
    "        word, frequency = c[i]\n",
    "        num_words += frequency\n",
    "        score = polar_scores.get(word, 0)\n",
    "        sum_of_product += score * frequency\n",
    "\n",
    "    if num_words == 0:\n",
    "        # 댓글에서 명사를 발견 못한 경우\n",
    "        return -1\n",
    "\n",
    "    return sum_of_product/num_words"
   ]
  },
  {
   "cell_type": "code",
   "execution_count": null,
   "id": "c5634b39",
   "metadata": {},
   "outputs": [],
   "source": [
    "nounf = open('noun.txt', 'r', encoding='utf-8')\n",
    "nounl = nounf.readlines()\n",
    "noun = []\n",
    "for i in range(len(nounl)):\n",
    "    noun.append(nounl[i].strip('.\\n'))"
   ]
  },
  {
   "cell_type": "code",
   "execution_count": null,
   "id": "aa412c8a",
   "metadata": {},
   "outputs": [],
   "source": [
    "postpf = open('postPosition.txt', 'r', encoding='utf-8')\n",
    "postpl = postpf.readlines()\n",
    "postp = []\n",
    "for i in range(len(postpl)):\n",
    "    postp.append(postpl[i].strip('.\\n'))"
   ]
  },
  {
   "cell_type": "code",
   "execution_count": null,
   "id": "5e820c7b",
   "metadata": {},
   "outputs": [],
   "source": [
    "hadayf = open('joyolist.txt', 'r', encoding='utf-8')\n",
    "hadayl = hadayf.readlines()\n",
    "haday = []\n",
    "for i in range(len(hadayl)):\n",
    "    haday.append(hadayl[i].strip('.\\n'))"
   ]
  },
  {
   "cell_type": "code",
   "execution_count": null,
   "id": "15688cd7",
   "metadata": {},
   "outputs": [],
   "source": [
    "file = open('news.csv', 'r', encoding='utf-8')\n",
    "comments = file.readlines()"
   ]
  },
  {
   "cell_type": "code",
   "execution_count": null,
   "id": "27df48cf",
   "metadata": {},
   "outputs": [],
   "source": [
    "polar_scores = load_polar_scores()\n",
    "count = 0\n",
    "matched = 0\n",
    "print('추출된 단어, 극성단어 갯수, 결과(점수), 댓글')\n",
    "time.sleep(1.5)"
   ]
  },
  {
   "cell_type": "code",
   "execution_count": null,
   "id": "5dd94a53",
   "metadata": {},
   "outputs": [],
   "source": [
    "for comment in comments:\n",
    "    splited = comment.split(',')\n",
    "    joined = \" \".join(splited[3:])\n",
    "    score = evaluate(joined)\n",
    "    label = splited[3]\n",
    "#기준치 : 0.4\n",
    "    if score == 0:\n",
    "        count = count + 1\n",
    "\n",
    "    if score >= 0.4:\n",
    "        score1 = \"P\"\n",
    "    else:\n",
    "        score1 = \"N\"\n",
    "\n",
    "    if label == score1:\n",
    "        print(splited[0] + \": correct\", score)\n",
    "        matched = matched + 1\n",
    "        print(comment)\n",
    "    else:\n",
    "        print(splited[0] + \": incorrect\", score)\n",
    "        print(comment)"
   ]
  },
  {
   "cell_type": "code",
   "execution_count": null,
   "id": "07111447",
   "metadata": {},
   "outputs": [],
   "source": [
    "# 정확도 출력\n",
    "print('정확도:', matched/(len(comments)))\n",
    "print(count)\n",
    "print(len(comments))"
   ]
  }
 ],
 "metadata": {
  "kernelspec": {
   "display_name": "Python 3 (ipykernel)",
   "language": "python",
   "name": "python3"
  },
  "language_info": {
   "codemirror_mode": {
    "name": "ipython",
    "version": 3
   },
   "file_extension": ".py",
   "mimetype": "text/x-python",
   "name": "python",
   "nbconvert_exporter": "python",
   "pygments_lexer": "ipython3",
   "version": "3.9.12"
  },
  "vscode": {
   "interpreter": {
    "hash": "794d29608a2829fb8a19f23bfe3ab7801c5db5df42b3429d963980e980279528"
   }
  }
 },
 "nbformat": 4,
 "nbformat_minor": 5
}
